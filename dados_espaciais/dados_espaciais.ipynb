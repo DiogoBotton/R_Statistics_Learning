{
 "cells": [
  {
   "cell_type": "markdown",
   "metadata": {},
   "source": [
    "Meuse é um conjunto de dados que contém informações sobre a qualidade da água e a concentração de metais pesados em solos e sedimentos do rio Meuse, na Holanda."
   ]
  },
  {
   "cell_type": "code",
   "execution_count": 57,
   "metadata": {
    "vscode": {
     "languageId": "r"
    }
   },
   "outputs": [],
   "source": [
    "library(sp)\n",
    "library(spdep)\n",
    "library(DescTools)\n",
    "\n",
    "data(meuse) # Carrega o conjunto de dados em memória"
   ]
  },
  {
   "cell_type": "code",
   "execution_count": 58,
   "metadata": {
    "vscode": {
     "languageId": "r"
    }
   },
   "outputs": [
    {
     "data": {
      "text/plain": [
       "       x                y             cadmium           copper      \n",
       " Min.   :178605   Min.   :329714   Min.   : 0.200   Min.   : 14.00  \n",
       " 1st Qu.:179371   1st Qu.:330762   1st Qu.: 0.800   1st Qu.: 23.00  \n",
       " Median :179991   Median :331633   Median : 2.100   Median : 31.00  \n",
       " Mean   :180005   Mean   :331635   Mean   : 3.246   Mean   : 40.32  \n",
       " 3rd Qu.:180630   3rd Qu.:332463   3rd Qu.: 3.850   3rd Qu.: 49.50  \n",
       " Max.   :181390   Max.   :333611   Max.   :18.100   Max.   :128.00  \n",
       "                                                                    \n",
       "      lead            zinc             elev             dist        \n",
       " Min.   : 37.0   Min.   : 113.0   Min.   : 5.180   Min.   :0.00000  \n",
       " 1st Qu.: 72.5   1st Qu.: 198.0   1st Qu.: 7.546   1st Qu.:0.07569  \n",
       " Median :123.0   Median : 326.0   Median : 8.180   Median :0.21184  \n",
       " Mean   :153.4   Mean   : 469.7   Mean   : 8.165   Mean   :0.24002  \n",
       " 3rd Qu.:207.0   3rd Qu.: 674.5   3rd Qu.: 8.955   3rd Qu.:0.36407  \n",
       " Max.   :654.0   Max.   :1839.0   Max.   :10.520   Max.   :0.88039  \n",
       "                                                                    \n",
       "       om         ffreq  soil   lime       landuse       dist.m      \n",
       " Min.   : 1.000   1:84   1:97   0:111   W      :50   Min.   :  10.0  \n",
       " 1st Qu.: 5.300   2:48   2:46   1: 44   Ah     :39   1st Qu.:  80.0  \n",
       " Median : 6.900   3:23   3:12           Am     :22   Median : 270.0  \n",
       " Mean   : 7.478                         Fw     :10   Mean   : 290.3  \n",
       " 3rd Qu.: 9.000                         Ab     : 8   3rd Qu.: 450.0  \n",
       " Max.   :17.000                         (Other):25   Max.   :1000.0  \n",
       " NA's   :2                              NA's   : 1                   "
      ]
     },
     "metadata": {},
     "output_type": "display_data"
    }
   ],
   "source": [
    "summary(meuse) # Estatistica espacial descritiva"
   ]
  },
  {
   "cell_type": "code",
   "execution_count": 59,
   "metadata": {
    "vscode": {
     "languageId": "r"
    }
   },
   "outputs": [
    {
     "name": "stdout",
     "output_type": "stream",
     "text": [
      "Média espacial:  469.7161 \n",
      "Mediana espacial:  326 \n",
      "Moda espacial:  180 198"
     ]
    }
   ],
   "source": [
    "# Levando em consideração a coluna \"Zinc\" (Zinco)\n",
    "media_espacial <- mean(meuse$zinc, na.rm = TRUE)\n",
    "cat(\"Média espacial: \", media_espacial, \"\\n\")\n",
    "\n",
    "mediana_espacial <- median(meuse$zinc, na.rm = TRUE)\n",
    "cat(\"Mediana espacial: \", mediana_espacial, \"\\n\")\n",
    "\n",
    "mediana_espacial <- Mode(meuse$zinc)\n",
    "cat(\"Moda espacial: \", mediana_espacial)\n"
   ]
  },
  {
   "cell_type": "markdown",
   "metadata": {},
   "source": [
    "### Visualização de dados espaciais\n",
    "\n",
    "Utilizamos a função sp_diag() para visualizar a distribuição espacial, especificamente do dataset \"georgia\", para visualizarmos a porcentagem de adultos com diploma universitário em cada condado do estado da Geórgia."
   ]
  },
  {
   "cell_type": "code",
   "execution_count": 60,
   "metadata": {
    "vscode": {
     "languageId": "r"
    }
   },
   "outputs": [
    {
     "name": "stderr",
     "output_type": "stream",
     "text": [
      "Contiguity condition: queen\n",
      "\n",
      "Number of neighbors per unit, summary:\n",
      "\n"
     ]
    },
    {
     "name": "stdout",
     "output_type": "stream",
     "text": [
      "   Min. 1st Qu.  Median    Mean 3rd Qu.    Max. \n",
      "  1.000   4.000   5.000   5.409   6.000  10.000 \n"
     ]
    },
    {
     "name": "stderr",
     "output_type": "stream",
     "text": [
      "\n",
      "Spatial weights, summary:\n",
      "\n"
     ]
    },
    {
     "name": "stdout",
     "output_type": "stream",
     "text": [
      "   Min. 1st Qu.  Median    Mean 3rd Qu.    Max. \n",
      " 0.1000  0.1429  0.1667  0.1849  0.2000  1.0000 \n"
     ]
    },
    {
     "data": {
      "image/png": "[encoded data removed]",
      "text/plain": [
       "plot without title"
      ]
     },
     "metadata": {
      "image/png": {
       "height": 420,
       "width": 420
      }
     },
     "output_type": "display_data"
    }
   ],
   "source": [
    "library(geostan)\n",
    "library(ggplot2)\n",
    "library(gridExtra)\n",
    "\n",
    "data(\"georgia\")\n",
    "\n",
    "sp_diag(georgia$college, georgia, name = \"College (%)\")"
   ]
  }
 ],
 "metadata": {
  "kernelspec": {
   "display_name": "R",
   "language": "R",
   "name": "ir"
  },
  "language_info": {
   "codemirror_mode": "r",
   "file_extension": ".r",
   "mimetype": "text/x-r-source",
   "name": "R",
   "pygments_lexer": "r",
   "version": "4.4.1"
  }
 },
 "nbformat": 4,
 "nbformat_minor": 2
}
