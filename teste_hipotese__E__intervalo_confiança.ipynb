{
 "cells": [
  {
   "cell_type": "code",
   "execution_count": 10,
   "metadata": {
    "vscode": {
     "languageId": "r"
    }
   },
   "outputs": [],
   "source": [
    "antes = c(100,105,95,110,100,90,105,95)\n",
    "depois = c(120,115,110,125,130,115,120,110)"
   ]
  },
  {
   "cell_type": "code",
   "execution_count": 11,
   "metadata": {
    "vscode": {
     "languageId": "r"
    }
   },
   "outputs": [
    {
     "name": "stdout",
     "output_type": "stream",
     "text": [
      "\n",
      "\tPaired t-test\n",
      "\n",
      "data:  antes and depois\n",
      "t = -7.872, df = 7, p-value = 0.000101\n",
      "alternative hypothesis: true mean difference is not equal to 0\n",
      "95 percent confidence interval:\n",
      " -23.56946 -12.68054\n",
      "sample estimates:\n",
      "mean difference \n",
      "        -18.125 \n",
      "\n"
     ]
    }
   ],
   "source": [
    "# Teste de hipóteses para verificar se há diferença significativa\n",
    "# H0: não há diferença (diferença média = 0)\n",
    "# H1: há uma diferença (diferença média != 0)\n",
    "# O valor p-value do nível de significância ficou menor que 0.05, então significa que nesse caso há diferneça significativa na produtividade.\n",
    "# paired = TRUE é para saber se os dados estão relacionados ou não.\n",
    "# o t.test comumente usados para comparar as médias de dois grupos e determinar se há uma diferença estatisticamente significativa entre eles.\n",
    "\n",
    "resultado_teste <- t.test(antes, depois, paired = TRUE)\n",
    "\n",
    "print(resultado_teste)"
   ]
  },
  {
   "cell_type": "code",
   "execution_count": 12,
   "metadata": {
    "vscode": {
     "languageId": "r"
    }
   },
   "outputs": [
    {
     "name": "stdout",
     "output_type": "stream",
     "text": [
      "[1] \"Intervalo de confiança para a diferença média: -23.5694616040247 a -12.6805383959753\"\n"
     ]
    }
   ],
   "source": [
    "# Calculando o intervalo de confiança\n",
    "# Intervalo de confiança para a diferença média\n",
    "# $conf.int geralmente é usado para acessar o intervalo de confiança de um objeto resultante de um procedimento estatístico, como um teste de hipótese ou uma análise descritiva.\n",
    "\n",
    "intervalo_confiança = resultado_teste$conf.int\n",
    "\n",
    "print(paste(\"Intervalo de confiança para a diferença média:\", intervalo_confiança[1], \"a\", intervalo_confiança[2]))"
   ]
  }
 ],
 "metadata": {
  "kernelspec": {
   "display_name": "R",
   "language": "R",
   "name": "ir"
  },
  "language_info": {
   "codemirror_mode": "r",
   "file_extension": ".r",
   "mimetype": "text/x-r-source",
   "name": "R",
   "pygments_lexer": "r",
   "version": "4.4.1"
  }
 },
 "nbformat": 4,
 "nbformat_minor": 2
}
