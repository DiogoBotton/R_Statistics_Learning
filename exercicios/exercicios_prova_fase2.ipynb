{
 "cells": [
  {
   "cell_type": "code",
   "execution_count": 59,
   "metadata": {
    "vscode": {
     "languageId": "r"
    }
   },
   "outputs": [
    {
     "data": {
      "text/plain": [
       "\n",
       "Call:\n",
       "lm(formula = desempenho ~ horas, data = dados)\n",
       "\n",
       "Residuals:\n",
       "    Min      1Q  Median      3Q     Max \n",
       "-0.7273 -0.5364 -0.1424  0.5697  1.0182 \n",
       "\n",
       "Coefficients:\n",
       "            Estimate Std. Error t value Pr(>|t|)    \n",
       "(Intercept) 48.13333    0.47119  102.15 9.42e-14 ***\n",
       "horas        2.08485    0.07594   27.45 3.34e-09 ***\n",
       "---\n",
       "Signif. codes:  0 '***' 0.001 '**' 0.01 '*' 0.05 '.' 0.1 ' ' 1\n",
       "\n",
       "Residual standard error: 0.6898 on 8 degrees of freedom\n",
       "Multiple R-squared:  0.9895,\tAdjusted R-squared:  0.9882 \n",
       "F-statistic: 753.7 on 1 and 8 DF,  p-value: 3.341e-09\n"
      ]
     },
     "metadata": {},
     "output_type": "display_data"
    }
   ],
   "source": [
    "# Questão 6:\n",
    "\n",
    "horas = c(1, 2, 3, 4, 5, 6, 7, 8, 9, 10)\n",
    "desempenho = c(51, 53, 54, 56, 58, 60, 62, 65, 67, 70)\n",
    "\n",
    "dados = data.frame(horas, desempenho)\n",
    "\n",
    "modelo = lm(desempenho ~ horas, data = dados)\n",
    "\n",
    "summary(modelo)"
   ]
  },
  {
   "cell_type": "code",
   "execution_count": 60,
   "metadata": {
    "vscode": {
     "languageId": "r"
    }
   },
   "outputs": [
    {
     "name": "stdout",
     "output_type": "stream",
     "text": [
      "5.864446 %"
     ]
    }
   ],
   "source": [
    "# Questão 11: Qual é o coeficiente de variação do array abaixo?\n",
    "\n",
    "array = c(32, 35, 30, 34, 33)\n",
    "\n",
    "coeficiente_variacao = (sd(array)/mean(array)) * 100\n",
    "\n",
    "cat(coeficiente_variacao, \"%\")"
   ]
  },
  {
   "cell_type": "code",
   "execution_count": 61,
   "metadata": {
    "vscode": {
     "languageId": "r"
    }
   },
   "outputs": [
    {
     "name": "stdout",
     "output_type": "stream",
     "text": [
      "[1] \"Hipótese nula (H0) rejeitada, ou seja, houve alteração significativa\"\n"
     ]
    }
   ],
   "source": [
    "# Questão 14\n",
    "\n",
    "media_populacional <- 4 / 1000\n",
    "desvio_padrao <- 0.1 / 1000\n",
    "tamanho_amostra <- 360\n",
    "media_amostral <- 3.8 / 1000\n",
    "significancia <- 0.10\n",
    "\n",
    "Zc = (media_amostral - media_populacional) / (desvio_padrao / sqrt(100))\n",
    "Za = qnorm(significancia)\n",
    "\n",
    "if(Zc < Za) {\n",
    "  print(\"Hipótese nula (H0) rejeitada, ou seja, houve alteração significativa\")\n",
    "} else {\n",
    "  print(\"Hipótese nula (H0) aceita, ou seja, não houve alteração significativa\")\n",
    "}"
   ]
  },
  {
   "cell_type": "code",
   "execution_count": 62,
   "metadata": {
    "vscode": {
     "languageId": "r"
    }
   },
   "outputs": [
    {
     "data": {
      "image/png": "[encoded data removed]",
      "text/plain": [
       "plot without title"
      ]
     },
     "metadata": {
      "image/png": {
       "height": 420,
       "width": 420
      }
     },
     "output_type": "display_data"
    }
   ],
   "source": [
    "# Questão 20: Prever o crescimento de usuários em uma plataforma ao longo do tempo, qual o tipo da associação?\n",
    "\n",
    "dias = c(1, 2, 3, 4, 5, 6, 7, 8, 9, 10)\n",
    "usuarios = c(30, 50, 80, 140, 220, 360, 580, 950, 1500, 2400)\n",
    "\n",
    "dados = data.frame(dias, usuarios)\n",
    "\n",
    "modelo = lm(usuarios ~ dias, data = dados)\n",
    "\n",
    "plot(dados$dias, dados$usuarios)\n",
    "abline(modelo, col = \"red\")\n",
    "\n",
    "# Associação Logarítmica"
   ]
  },
  {
   "cell_type": "code",
   "execution_count": 63,
   "metadata": {
    "vscode": {
     "languageId": "r"
    }
   },
   "outputs": [
    {
     "name": "stdout",
     "output_type": "stream",
     "text": [
      " 25%  50%  75% \n",
      "78.5 83.0 89.0 \n"
     ]
    }
   ],
   "source": [
    "# Questão 27:\n",
    "\n",
    "array = c(80, 85, 90, 75, 95, 100, 70, 65, 88, 92, 78, 84, 79, 81, 83)\n",
    "\n",
    "quartis = quantile(array, probs=c(0.25, 0.50, 0.75))\n",
    "\n",
    "print(quartis)"
   ]
  }
 ],
 "metadata": {
  "kernelspec": {
   "display_name": "R",
   "language": "R",
   "name": "ir"
  },
  "language_info": {
   "codemirror_mode": "r",
   "file_extension": ".r",
   "mimetype": "text/x-r-source",
   "name": "R",
   "pygments_lexer": "r",
   "version": "4.4.1"
  }
 },
 "nbformat": 4,
 "nbformat_minor": 2
}
