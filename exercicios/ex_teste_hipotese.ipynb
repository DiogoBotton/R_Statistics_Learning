{
 "cells": [
  {
   "cell_type": "code",
   "execution_count": 19,
   "metadata": {
    "vscode": {
     "languageId": "r"
    }
   },
   "outputs": [
    {
     "name": "stdout",
     "output_type": "stream",
     "text": [
      "[1] \"H0 Rejeitada, ou seja, houve diferença significativa, a resistência média ao desmoronamento diminuiu mais que 5%.\"\n"
     ]
    }
   ],
   "source": [
    "# Agora, vamos aplicar esses conceitos a uma situação prática: um comprador de tijolos acha que a qualidade dos tijolos está diminuindo. \n",
    "# Ao observar experiências anteriores, considerou que a resistência média ao desmoronamento de tais tijolos é igual a 200 kg, com um desvio padrão de 10 kg. \n",
    "# Uma amostra de 100 tijolos, escolhidos ao acaso, forneceu uma média de 195 kg. \n",
    "# Ao nível de significância de 5%, pode-se afirmar que a resistência média ao desmoronamento diminuiu?\n",
    "\n",
    "# H1 => Geralmente indica que NÃO HÁ efeito ou diferença significativa\n",
    "# H0 => Geralmente indica que HÁ um efeito ou diferença significativa\n",
    "\n",
    "# No caso do enunciado\n",
    "# H0 seria: resistência média ao desmoronamento é >= (maior ou igual) à 200 kg\n",
    "# E H1 seria: a resistência média ao desmoronamento é < (menor) que 200 kg\n",
    "\n",
    "# O Nível de Significância é a probabilidade de rejeitar a hipótese nula (que seria o H0).\n",
    "# Em outras palavras, para rejeitar a hipótese H0, será necessário que o resultado seja menor que 0.05 (5%)\n",
    "\n",
    "media_populacional <- 200 # Resistência média 200 kg antes\n",
    "media_amostral <- 195 # Resistência média 195 kg depois\n",
    "desvio_padrao <- 10\n",
    "tamanho_amostra <- 100 # Quantidade de amostras de tijolos\n",
    "alpha <- 0.05 # Nível de Significância\n",
    "\n",
    "Zc = (media_amostral - media_populacional) / (desvio_padrao / sqrt(100))\n",
    "Za = qnorm(alpha)\n",
    "\n",
    "if (Zc < Za){\n",
    "  print(\"H0 Rejeitada, ou seja, houve diferença significativa, a resistência média ao desmoronamento diminuiu mais que 5%.\")\n",
    "} else {\n",
    "  print(\"H0 Aceita, ou seja, não houve diferença significativa.\")\n",
    "}"
   ]
  }
 ],
 "metadata": {
  "kernelspec": {
   "display_name": "R",
   "language": "R",
   "name": "ir"
  },
  "language_info": {
   "codemirror_mode": "r",
   "file_extension": ".r",
   "mimetype": "text/x-r-source",
   "name": "R",
   "pygments_lexer": "r",
   "version": "4.4.1"
  }
 },
 "nbformat": 4,
 "nbformat_minor": 2
}
