{
 "cells": [
  {
   "cell_type": "code",
   "execution_count": 10,
   "metadata": {
    "vscode": {
     "languageId": "r"
    }
   },
   "outputs": [
    {
     "name": "stdout",
     "output_type": "stream",
     "text": [
      "[1] \"Hipótese nula (H0) aceita, ou seja, não houve alteração significativa\"\n"
     ]
    }
   ],
   "source": [
    "media_populacional <- 5 / 1000\n",
    "desvio_padrao <- 0.5\n",
    "tamanho_amostra <- 50\n",
    "media_amostral <- 4.7 / 1000\n",
    "significancia <- 0.05\n",
    "\n",
    "Zc = (media_amostral - media_populacional) / (desvio_padrao / sqrt(100))\n",
    "Za = qnorm(significancia)\n",
    "\n",
    "if(Zc < Za) {\n",
    "  print(\"Hipótese nula (H0) rejeitada, ou seja, houve alteração significativa\")\n",
    "} else {\n",
    "  print(\"Hipótese nula (H0) aceita, ou seja, não houve alteração significativa\")\n",
    "}"
   ]
  }
 ],
 "metadata": {
  "kernelspec": {
   "display_name": "R",
   "language": "R",
   "name": "ir"
  },
  "language_info": {
   "codemirror_mode": "r",
   "file_extension": ".r",
   "mimetype": "text/x-r-source",
   "name": "R",
   "pygments_lexer": "r",
   "version": "4.4.1"
  }
 },
 "nbformat": 4,
 "nbformat_minor": 2
}
