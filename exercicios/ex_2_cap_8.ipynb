{
 "cells": [
  {
   "cell_type": "code",
   "execution_count": 6,
   "metadata": {
    "vscode": {
     "languageId": "r"
    }
   },
   "outputs": [
    {
     "data": {
      "text/html": [
       "<table class=\"dataframe\">\n",
       "<caption>A data.frame: 6 × 4</caption>\n",
       "<thead>\n",
       "\t<tr><th></th><th scope=col>consumo_energia</th><th scope=col>temperatura</th><th scope=col>umidade</th><th scope=col>numero_servidores</th></tr>\n",
       "\t<tr><th></th><th scope=col>&lt;dbl&gt;</th><th scope=col>&lt;dbl&gt;</th><th scope=col>&lt;dbl&gt;</th><th scope=col>&lt;dbl&gt;</th></tr>\n",
       "</thead>\n",
       "<tbody>\n",
       "\t<tr><th scope=row>1</th><td>1500</td><td>25</td><td>60</td><td>100</td></tr>\n",
       "\t<tr><th scope=row>2</th><td>1600</td><td>28</td><td>55</td><td>110</td></tr>\n",
       "\t<tr><th scope=row>3</th><td>1550</td><td>26</td><td>58</td><td>105</td></tr>\n",
       "\t<tr><th scope=row>4</th><td>1650</td><td>27</td><td>59</td><td>115</td></tr>\n",
       "\t<tr><th scope=row>5</th><td>1700</td><td>30</td><td>50</td><td>120</td></tr>\n",
       "\t<tr><th scope=row>6</th><td>1750</td><td>29</td><td>52</td><td>125</td></tr>\n",
       "</tbody>\n",
       "</table>\n"
      ],
      "text/latex": [
       "A data.frame: 6 × 4\n",
       "\\begin{tabular}{r|llll}\n",
       "  & consumo\\_energia & temperatura & umidade & numero\\_servidores\\\\\n",
       "  & <dbl> & <dbl> & <dbl> & <dbl>\\\\\n",
       "\\hline\n",
       "\t1 & 1500 & 25 & 60 & 100\\\\\n",
       "\t2 & 1600 & 28 & 55 & 110\\\\\n",
       "\t3 & 1550 & 26 & 58 & 105\\\\\n",
       "\t4 & 1650 & 27 & 59 & 115\\\\\n",
       "\t5 & 1700 & 30 & 50 & 120\\\\\n",
       "\t6 & 1750 & 29 & 52 & 125\\\\\n",
       "\\end{tabular}\n"
      ],
      "text/markdown": [
       "\n",
       "A data.frame: 6 × 4\n",
       "\n",
       "| <!--/--> | consumo_energia &lt;dbl&gt; | temperatura &lt;dbl&gt; | umidade &lt;dbl&gt; | numero_servidores &lt;dbl&gt; |\n",
       "|---|---|---|---|---|\n",
       "| 1 | 1500 | 25 | 60 | 100 |\n",
       "| 2 | 1600 | 28 | 55 | 110 |\n",
       "| 3 | 1550 | 26 | 58 | 105 |\n",
       "| 4 | 1650 | 27 | 59 | 115 |\n",
       "| 5 | 1700 | 30 | 50 | 120 |\n",
       "| 6 | 1750 | 29 | 52 | 125 |\n",
       "\n"
      ],
      "text/plain": [
       "  consumo_energia temperatura umidade numero_servidores\n",
       "1 1500            25          60      100              \n",
       "2 1600            28          55      110              \n",
       "3 1550            26          58      105              \n",
       "4 1650            27          59      115              \n",
       "5 1700            30          50      120              \n",
       "6 1750            29          52      125              "
      ]
     },
     "metadata": {},
     "output_type": "display_data"
    }
   ],
   "source": [
    "consumo_energia <- c(1500,1600,1550,1650,1700,1750)\n",
    "temperatura <- c(25,28,26,27,30,29)\n",
    "umidade <- c(60,55,58,59,50,52)\n",
    "numero_servidores <- c(100,110,105,115,120,125)\n",
    "\n",
    "dados <- data.frame(consumo_energia, temperatura, umidade, numero_servidores)\n",
    "\n",
    "head(dados)"
   ]
  },
  {
   "cell_type": "code",
   "execution_count": 7,
   "metadata": {
    "vscode": {
     "languageId": "r"
    }
   },
   "outputs": [
    {
     "name": "stderr",
     "output_type": "stream",
     "text": [
      "Warning message in summary.lm(modelo):\n",
      "\"ajuste essencialmente perfeito: resumo (summary) pode não ser confiável\"\n"
     ]
    },
    {
     "data": {
      "text/plain": [
       "\n",
       "Call:\n",
       "lm(formula = consumo_energia ~ temperatura + umidade + numero_servidores, \n",
       "    data = dados)\n",
       "\n",
       "Residuals:\n",
       "         1          2          3          4          5          6 \n",
       "-5.076e-14  1.531e-14  5.942e-14 -5.103e-15 -1.964e-14  7.689e-16 \n",
       "\n",
       "Coefficients:\n",
       "                   Estimate Std. Error   t value Pr(>|t|)    \n",
       "(Intercept)       5.000e+02  2.642e-12 1.893e+14   <2e-16 ***\n",
       "temperatura       8.274e-14  6.503e-14 1.272e+00    0.331    \n",
       "umidade           2.371e-14  2.309e-14 1.027e+00    0.413    \n",
       "numero_servidores 1.000e+01  6.415e-15 1.559e+15   <2e-16 ***\n",
       "---\n",
       "Signif. codes:  0 '***' 0.001 '**' 0.01 '*' 0.05 '.' 0.1 ' ' 1\n",
       "\n",
       "Residual standard error: 5.811e-14 on 2 degrees of freedom\n",
       "Multiple R-squared:      1,\tAdjusted R-squared:      1 \n",
       "F-statistic: 4.318e+30 on 3 and 2 DF,  p-value: < 2.2e-16\n"
      ]
     },
     "metadata": {},
     "output_type": "display_data"
    }
   ],
   "source": [
    "modelo <- lm(consumo_energia ~ temperatura + umidade + numero_servidores, dados)\n",
    "\n",
    "summary(modelo)"
   ]
  },
  {
   "cell_type": "code",
   "execution_count": 8,
   "metadata": {
    "vscode": {
     "languageId": "r"
    }
   },
   "outputs": [
    {
     "data": {
      "image/png": "[encoded data removed]",
      "text/plain": [
       "Plot with title \"\""
      ]
     },
     "metadata": {
      "image/png": {
       "height": 420,
       "width": 420
      }
     },
     "output_type": "display_data"
    }
   ],
   "source": [
    "par(mfrow = c(2,2))\n",
    "plot(modelo)"
   ]
  }
 ],
 "metadata": {
  "kernelspec": {
   "display_name": "R",
   "language": "R",
   "name": "ir"
  },
  "language_info": {
   "codemirror_mode": "r",
   "file_extension": ".r",
   "mimetype": "text/x-r-source",
   "name": "R",
   "pygments_lexer": "r",
   "version": "4.4.1"
  }
 },
 "nbformat": 4,
 "nbformat_minor": 2
}
