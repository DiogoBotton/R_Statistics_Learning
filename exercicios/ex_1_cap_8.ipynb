{
 "cells": [
  {
   "cell_type": "code",
   "execution_count": 8,
   "metadata": {
    "vscode": {
     "languageId": "r"
    }
   },
   "outputs": [
    {
     "data": {
      "text/html": [
       "<table class=\"dataframe\">\n",
       "<caption>A data.frame: 6 × 2</caption>\n",
       "<thead>\n",
       "\t<tr><th></th><th scope=col>modelos</th><th scope=col>tempos</th></tr>\n",
       "\t<tr><th></th><th scope=col>&lt;dbl&gt;</th><th scope=col>&lt;dbl&gt;</th></tr>\n",
       "</thead>\n",
       "<tbody>\n",
       "\t<tr><th scope=row>1</th><td>2</td><td>10</td></tr>\n",
       "\t<tr><th scope=row>2</th><td>3</td><td>12</td></tr>\n",
       "\t<tr><th scope=row>3</th><td>4</td><td>15</td></tr>\n",
       "\t<tr><th scope=row>4</th><td>5</td><td>18</td></tr>\n",
       "\t<tr><th scope=row>5</th><td>2</td><td> 9</td></tr>\n",
       "\t<tr><th scope=row>6</th><td>4</td><td>16</td></tr>\n",
       "</tbody>\n",
       "</table>\n"
      ],
      "text/latex": [
       "A data.frame: 6 × 2\n",
       "\\begin{tabular}{r|ll}\n",
       "  & modelos & tempos\\\\\n",
       "  & <dbl> & <dbl>\\\\\n",
       "\\hline\n",
       "\t1 & 2 & 10\\\\\n",
       "\t2 & 3 & 12\\\\\n",
       "\t3 & 4 & 15\\\\\n",
       "\t4 & 5 & 18\\\\\n",
       "\t5 & 2 &  9\\\\\n",
       "\t6 & 4 & 16\\\\\n",
       "\\end{tabular}\n"
      ],
      "text/markdown": [
       "\n",
       "A data.frame: 6 × 2\n",
       "\n",
       "| <!--/--> | modelos &lt;dbl&gt; | tempos &lt;dbl&gt; |\n",
       "|---|---|---|\n",
       "| 1 | 2 | 10 |\n",
       "| 2 | 3 | 12 |\n",
       "| 3 | 4 | 15 |\n",
       "| 4 | 5 | 18 |\n",
       "| 5 | 2 |  9 |\n",
       "| 6 | 4 | 16 |\n",
       "\n"
      ],
      "text/plain": [
       "  modelos tempos\n",
       "1 2       10    \n",
       "2 3       12    \n",
       "3 4       15    \n",
       "4 5       18    \n",
       "5 2        9    \n",
       "6 4       16    "
      ]
     },
     "metadata": {},
     "output_type": "display_data"
    }
   ],
   "source": [
    "modelos <- c(2, 3, 4, 5, 2, 4, 3, 5, 2, 4)\n",
    "tempos <- c(10, 12, 15, 18, 9, 16, 11, 19, 8, 17)\n",
    "\n",
    "dados <- data.frame(modelos, tempos)\n",
    "\n",
    "head(dados)"
   ]
  },
  {
   "cell_type": "code",
   "execution_count": 9,
   "metadata": {
    "vscode": {
     "languageId": "r"
    }
   },
   "outputs": [
    {
     "data": {
      "text/plain": [
       "\n",
       "Call:\n",
       "lm(formula = tempos ~ modelos, data = dados)\n",
       "\n",
       "Residuals:\n",
       "     Min       1Q   Median       3Q      Max \n",
       "-1.17742 -0.71371 -0.02419  0.43952  1.51613 \n",
       "\n",
       "Coefficients:\n",
       "            Estimate Std. Error t value Pr(>|t|)    \n",
       "(Intercept)   2.2581     0.9460   2.387   0.0441 *  \n",
       "modelos       3.3065     0.2644  12.505 1.57e-06 ***\n",
       "---\n",
       "Signif. codes:  0 '***' 0.001 '**' 0.01 '*' 0.05 '.' 0.1 ' ' 1\n",
       "\n",
       "Residual standard error: 0.9311 on 8 degrees of freedom\n",
       "Multiple R-squared:  0.9513,\tAdjusted R-squared:  0.9452 \n",
       "F-statistic: 156.4 on 1 and 8 DF,  p-value: 1.565e-06\n"
      ]
     },
     "metadata": {},
     "output_type": "display_data"
    }
   ],
   "source": [
    "modelo <- lm(tempos ~ modelos, dados)\n",
    "\n",
    "summary(modelo)"
   ]
  },
  {
   "cell_type": "code",
   "execution_count": 10,
   "metadata": {
    "vscode": {
     "languageId": "r"
    }
   },
   "outputs": [
    {
     "data": {
      "image/png": "[encoded data removed]",
      "text/plain": [
       "Plot with title \"\""
      ]
     },
     "metadata": {
      "image/png": {
       "height": 420,
       "width": 420
      }
     },
     "output_type": "display_data"
    }
   ],
   "source": [
    "par(mfrow = c(2,2))\n",
    "plot(modelo)"
   ]
  }
 ],
 "metadata": {
  "kernelspec": {
   "display_name": "R",
   "language": "R",
   "name": "ir"
  },
  "language_info": {
   "codemirror_mode": "r",
   "file_extension": ".r",
   "mimetype": "text/x-r-source",
   "name": "R",
   "pygments_lexer": "r",
   "version": "4.4.1"
  }
 },
 "nbformat": 4,
 "nbformat_minor": 2
}
