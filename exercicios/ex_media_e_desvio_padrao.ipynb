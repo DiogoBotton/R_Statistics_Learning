{
 "cells": [
  {
   "cell_type": "code",
   "execution_count": 3,
   "metadata": {
    "vscode": {
     "languageId": "r"
    }
   },
   "outputs": [
    {
     "name": "stdout",
     "output_type": "stream",
     "text": [
      "Média:  39.26667 \n",
      "Desvio Padrão:  6.318529"
     ]
    }
   ],
   "source": [
    "dados <- c(35, 42, 28, 50, 39, 45, 37, 41, 33, 48, 30, 44, 36, 38, 43)\n",
    "\n",
    "media <- mean(dados)\n",
    "desvio_padrao <- sd(dados)\n",
    "\n",
    "cat(\"Média: \", media, \"\\n\")\n",
    "cat(\"Desvio Padrão: \", desvio_padrao)"
   ]
  }
 ],
 "metadata": {
  "kernelspec": {
   "display_name": "R",
   "language": "R",
   "name": "ir"
  },
  "language_info": {
   "codemirror_mode": "r",
   "file_extension": ".r",
   "mimetype": "text/x-r-source",
   "name": "R",
   "pygments_lexer": "r",
   "version": "4.4.1"
  }
 },
 "nbformat": 4,
 "nbformat_minor": 2
}
