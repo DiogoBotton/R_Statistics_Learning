{
 "cells": [
  {
   "cell_type": "code",
   "execution_count": 19,
   "metadata": {
    "vscode": {
     "languageId": "r"
    }
   },
   "outputs": [
    {
     "data": {
      "text/html": [
       "<table class=\"dataframe\">\n",
       "<caption>A data.frame: 6 × 2</caption>\n",
       "<thead>\n",
       "\t<tr><th></th><th scope=col>idades</th><th scope=col>precisoes</th></tr>\n",
       "\t<tr><th></th><th scope=col>&lt;dbl&gt;</th><th scope=col>&lt;dbl&gt;</th></tr>\n",
       "</thead>\n",
       "<tbody>\n",
       "\t<tr><th scope=row>1</th><td> 6</td><td>78</td></tr>\n",
       "\t<tr><th scope=row>2</th><td> 9</td><td>82</td></tr>\n",
       "\t<tr><th scope=row>3</th><td>12</td><td>85</td></tr>\n",
       "\t<tr><th scope=row>4</th><td>15</td><td>87</td></tr>\n",
       "\t<tr><th scope=row>5</th><td>18</td><td>89</td></tr>\n",
       "\t<tr><th scope=row>6</th><td>21</td><td>91</td></tr>\n",
       "</tbody>\n",
       "</table>\n"
      ],
      "text/latex": [
       "A data.frame: 6 × 2\n",
       "\\begin{tabular}{r|ll}\n",
       "  & idades & precisoes\\\\\n",
       "  & <dbl> & <dbl>\\\\\n",
       "\\hline\n",
       "\t1 &  6 & 78\\\\\n",
       "\t2 &  9 & 82\\\\\n",
       "\t3 & 12 & 85\\\\\n",
       "\t4 & 15 & 87\\\\\n",
       "\t5 & 18 & 89\\\\\n",
       "\t6 & 21 & 91\\\\\n",
       "\\end{tabular}\n"
      ],
      "text/markdown": [
       "\n",
       "A data.frame: 6 × 2\n",
       "\n",
       "| <!--/--> | idades &lt;dbl&gt; | precisoes &lt;dbl&gt; |\n",
       "|---|---|---|\n",
       "| 1 |  6 | 78 |\n",
       "| 2 |  9 | 82 |\n",
       "| 3 | 12 | 85 |\n",
       "| 4 | 15 | 87 |\n",
       "| 5 | 18 | 89 |\n",
       "| 6 | 21 | 91 |\n",
       "\n"
      ],
      "text/plain": [
       "  idades precisoes\n",
       "1  6     78       \n",
       "2  9     82       \n",
       "3 12     85       \n",
       "4 15     87       \n",
       "5 18     89       \n",
       "6 21     91       "
      ]
     },
     "metadata": {},
     "output_type": "display_data"
    }
   ],
   "source": [
    "idades <- c(6,9,12,15,18,21)\n",
    "precisoes <- c(78,82,85,87,89,91)\n",
    "\n",
    "dados <- data.frame(idades, precisoes)\n",
    "\n",
    "head(dados)"
   ]
  },
  {
   "cell_type": "code",
   "execution_count": 20,
   "metadata": {
    "vscode": {
     "languageId": "r"
    }
   },
   "outputs": [
    {
     "data": {
      "text/plain": [
       "\n",
       "Call:\n",
       "lm(formula = precisoes ~ idades, data = dados)\n",
       "\n",
       "Residuals:\n",
       "      1       2       3       4       5       6 \n",
       "-1.0476  0.4381  0.9238  0.4095 -0.1048 -0.6190 \n",
       "\n",
       "Coefficients:\n",
       "            Estimate Std. Error t value Pr(>|t|)    \n",
       "(Intercept) 74.01905    0.94612   78.23  1.6e-07 ***\n",
       "idades       0.83810    0.06552   12.79 0.000215 ***\n",
       "---\n",
       "Signif. codes:  0 '***' 0.001 '**' 0.01 '*' 0.05 '.' 0.1 ' ' 1\n",
       "\n",
       "Residual standard error: 0.8223 on 4 degrees of freedom\n",
       "Multiple R-squared:  0.9761,\tAdjusted R-squared:  0.9702 \n",
       "F-statistic: 163.6 on 1 and 4 DF,  p-value: 0.0002153\n"
      ]
     },
     "metadata": {},
     "output_type": "display_data"
    }
   ],
   "source": [
    "modelo <- lm(precisoes ~ idades, data = dados)\n",
    "\n",
    "summary(modelo)"
   ]
  },
  {
   "cell_type": "code",
   "execution_count": 21,
   "metadata": {
    "vscode": {
     "languageId": "r"
    }
   },
   "outputs": [
    {
     "name": "stdout",
     "output_type": "stream",
     "text": [
      "[1] 86.59055\n"
     ]
    },
    {
     "data": {
      "image/png": "[encoded data removed]",
      "text/plain": [
       "Plot with title \"Relação Modelo-Tempo Treinamento\""
      ]
     },
     "metadata": {
      "image/png": {
       "height": 420,
       "width": 420
      }
     },
     "output_type": "display_data"
    }
   ],
   "source": [
    "plot(dados$idades, dados$precisoes,\n",
    "     main = \"Relação Modelo-Tempo Treinamento\", xlab=\"Modelos\", ylab = \"Tempo de Treinamento\")\n",
    "abline(modelo, col = \"red\")\n",
    "\n",
    "# Fórmula:\n",
    "# precisão = 0.83810 * Idade do Modelo + 74.01905\n",
    "\n",
    "acu = 0.83810 * 15 + 74.01905\n",
    "print(acu)"
   ]
  }
 ],
 "metadata": {
  "kernelspec": {
   "display_name": "R",
   "language": "R",
   "name": "ir"
  },
  "language_info": {
   "codemirror_mode": "r",
   "file_extension": ".r",
   "mimetype": "text/x-r-source",
   "name": "R",
   "pygments_lexer": "r",
   "version": "4.4.1"
  }
 },
 "nbformat": 4,
 "nbformat_minor": 2
}
