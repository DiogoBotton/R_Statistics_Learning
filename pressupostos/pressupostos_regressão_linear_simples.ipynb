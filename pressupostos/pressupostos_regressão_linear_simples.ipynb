{
 "cells": [
  {
   "cell_type": "code",
   "execution_count": 7,
   "metadata": {
    "vscode": {
     "languageId": "r"
    }
   },
   "outputs": [
    {
     "data": {
      "text/html": [
       "<table class=\"dataframe\">\n",
       "<caption>A data.frame: 6 × 2</caption>\n",
       "<thead>\n",
       "\t<tr><th></th><th scope=col>complexidade</th><th scope=col>bugs</th></tr>\n",
       "\t<tr><th></th><th scope=col>&lt;dbl&gt;</th><th scope=col>&lt;dbl&gt;</th></tr>\n",
       "</thead>\n",
       "<tbody>\n",
       "\t<tr><th scope=row>1</th><td>1</td><td>0</td></tr>\n",
       "\t<tr><th scope=row>2</th><td>2</td><td>1</td></tr>\n",
       "\t<tr><th scope=row>3</th><td>3</td><td>3</td></tr>\n",
       "\t<tr><th scope=row>4</th><td>4</td><td>2</td></tr>\n",
       "\t<tr><th scope=row>5</th><td>5</td><td>5</td></tr>\n",
       "\t<tr><th scope=row>6</th><td>6</td><td>8</td></tr>\n",
       "</tbody>\n",
       "</table>\n"
      ],
      "text/latex": [
       "A data.frame: 6 × 2\n",
       "\\begin{tabular}{r|ll}\n",
       "  & complexidade & bugs\\\\\n",
       "  & <dbl> & <dbl>\\\\\n",
       "\\hline\n",
       "\t1 & 1 & 0\\\\\n",
       "\t2 & 2 & 1\\\\\n",
       "\t3 & 3 & 3\\\\\n",
       "\t4 & 4 & 2\\\\\n",
       "\t5 & 5 & 5\\\\\n",
       "\t6 & 6 & 8\\\\\n",
       "\\end{tabular}\n"
      ],
      "text/markdown": [
       "\n",
       "A data.frame: 6 × 2\n",
       "\n",
       "| <!--/--> | complexidade &lt;dbl&gt; | bugs &lt;dbl&gt; |\n",
       "|---|---|---|\n",
       "| 1 | 1 | 0 |\n",
       "| 2 | 2 | 1 |\n",
       "| 3 | 3 | 3 |\n",
       "| 4 | 4 | 2 |\n",
       "| 5 | 5 | 5 |\n",
       "| 6 | 6 | 8 |\n",
       "\n"
      ],
      "text/plain": [
       "  complexidade bugs\n",
       "1 1            0   \n",
       "2 2            1   \n",
       "3 3            3   \n",
       "4 4            2   \n",
       "5 5            5   \n",
       "6 6            8   "
      ]
     },
     "metadata": {},
     "output_type": "display_data"
    }
   ],
   "source": [
    "if (!require(ggplot2)) install.packages(\"ggplot2\")\n",
    "if (!require(car)) install.packages(\"car\")\n",
    "if (!require(lmtest)) install.packages(\"lmtest\")\n",
    "\n",
    "complexidade <- c(1, 2, 3, 4, 5, 6, 7, 8, 9, 10)\n",
    "bugs <- c(0, 1, 3, 2, 5, 8, 7, 9, 12, 14)\n",
    "\n",
    "dados <- data.frame(complexidade, bugs)\n",
    "\n",
    "head(dados)"
   ]
  },
  {
   "cell_type": "code",
   "execution_count": 8,
   "metadata": {
    "vscode": {
     "languageId": "r"
    }
   },
   "outputs": [
    {
     "data": {
      "text/plain": [
       "\n",
       "Call:\n",
       "lm(formula = bugs ~ complexidade, data = dados)\n",
       "\n",
       "Residuals:\n",
       "    Min      1Q  Median      3Q     Max \n",
       "-1.8182 -0.7621  0.4000  0.7349  1.1394 \n",
       "\n",
       "Coefficients:\n",
       "             Estimate Std. Error t value Pr(>|t|)    \n",
       "(Intercept)   -2.2667     0.7633   -2.97   0.0179 *  \n",
       "complexidade   1.5212     0.1230   12.37  1.7e-06 ***\n",
       "---\n",
       "Signif. codes:  0 '***' 0.001 '**' 0.01 '*' 0.05 '.' 0.1 ' ' 1\n",
       "\n",
       "Residual standard error: 1.117 on 8 degrees of freedom\n",
       "Multiple R-squared:  0.9503,\tAdjusted R-squared:  0.9441 \n",
       "F-statistic: 152.9 on 1 and 8 DF,  p-value: 1.705e-06\n"
      ]
     },
     "metadata": {},
     "output_type": "display_data"
    }
   ],
   "source": [
    "modelo <- lm(bugs ~ complexidade, data = dados)\n",
    "summary(modelo)"
   ]
  },
  {
   "cell_type": "code",
   "execution_count": 9,
   "metadata": {
    "vscode": {
     "languageId": "r"
    }
   },
   "outputs": [
    {
     "data": {
      "image/png": "[encoded data removed]",
      "text/plain": [
       "Plot with title \"Relação Complexidade-Bugs\""
      ]
     },
     "metadata": {
      "image/png": {
       "height": 420,
       "width": 420
      }
     },
     "output_type": "display_data"
    }
   ],
   "source": [
    "# Pressupostos da Regressão Linear\n",
    "# Verificação de Pressupostos\n",
    "\n",
    "# 1. Linearidade\n",
    "plot(dados$complexidade, dados$bugs,\n",
    "     main = \"Relação Complexidade-Bugs\", xlab=\"Complexidade\", ylab = \"bugs\")\n",
    "abline(modelo, col = \"red\")\n",
    "\n",
    "# Verificamos se o aumento no tamanho do conteúdo está associado a um aumento proporcional no tempo de carregamento. \n",
    "# Isso pode ser visualizado com um gráfico de dispersão; esperamos ver uma relação linear aproximada entre as variáveis."
   ]
  },
  {
   "cell_type": "code",
   "execution_count": 10,
   "metadata": {
    "vscode": {
     "languageId": "r"
    }
   },
   "outputs": [
    {
     "data": {
      "text/plain": [
       "\n",
       "\tDurbin-Watson test\n",
       "\n",
       "data:  modelo\n",
       "DW = 2.0257, p-value = 0.3534\n",
       "alternative hypothesis: true autocorrelation is greater than 0\n"
      ]
     },
     "metadata": {},
     "output_type": "display_data"
    }
   ],
   "source": [
    "# 2. Independência dos Erros (Teste de Durbin Watson)\n",
    "dwtest(modelo)"
   ]
  },
  {
   "cell_type": "code",
   "execution_count": 11,
   "metadata": {
    "vscode": {
     "languageId": "r"
    }
   },
   "outputs": [
    {
     "data": {
      "image/png": "[encoded data removed]",
      "text/plain": [
       "Plot with title \"Homoscedastidade\""
      ]
     },
     "metadata": {
      "image/png": {
       "height": 420,
       "width": 420
      }
     },
     "output_type": "display_data"
    }
   ],
   "source": [
    "# 3. Homoscedasticidade (Gráfico de Resíduos vs Valores Ajustados)\n",
    "# Os valores precisam estar dispersos, ou seja, distribuidos ao longo do gráfico.\n",
    "\n",
    "plot(modelo$fitted.values, resid(modelo), xlab = \"Valores Ajustados\", ylab = \"Resíduos\", main = \"Homoscedastidade\")\n",
    "abline(h = 0, col = \"red\")"
   ]
  },
  {
   "cell_type": "code",
   "execution_count": 12,
   "metadata": {
    "vscode": {
     "languageId": "r"
    }
   },
   "outputs": [
    {
     "name": "stderr",
     "output_type": "stream",
     "text": [
      "Warning message in rlm.default(x, y, weights, method = method, wt.method = wt.method, :\n",
      "\"'rlm' failed to converge in 20 steps\"\n"
     ]
    },
    {
     "data": {
      "text/html": [
       "<style>\n",
       ".list-inline {list-style: none; margin:0; padding: 0}\n",
       ".list-inline>li {display: inline-block}\n",
       ".list-inline>li:not(:last-child)::after {content: \"\\00b7\"; padding: 0 .5ex}\n",
       "</style>\n",
       "<ol class=list-inline><li>4</li><li>7</li></ol>\n"
      ],
      "text/latex": [
       "\\begin{enumerate*}\n",
       "\\item 4\n",
       "\\item 7\n",
       "\\end{enumerate*}\n"
      ],
      "text/markdown": [
       "1. 4\n",
       "2. 7\n",
       "\n",
       "\n"
      ],
      "text/plain": [
       "[1] 4 7"
      ]
     },
     "metadata": {},
     "output_type": "display_data"
    },
    {
     "data": {
      "image/png": "[encoded data removed]",
      "text/plain": [
       "Plot with title \"Gráfico Q-Q para Normalidade dos Erros\""
      ]
     },
     "metadata": {
      "image/png": {
       "height": 420,
       "width": 420
      }
     },
     "output_type": "display_data"
    }
   ],
   "source": [
    "# 4. Normalidade dos Erros (Gráfico Q-Q)\n",
    "\n",
    "qqPlot(modelo, main = \"Gráfico Q-Q para Normalidade dos Erros\")\n",
    "\n",
    "# Realizamos testes, como o Shapiro-Wilk, e contrúimos um gráfico Q-Q para verificar se os erros seguem uma distribuição normal.\n",
    "# No gráfico Q-Q, os pontos devem alinhar-se aproximadamente com a linha diagonal.\n",
    "\n",
    "# O mundo ideal é que todas as \"bolinhas\" estivessem \"em cima\" da linha."
   ]
  }
 ],
 "metadata": {
  "kernelspec": {
   "display_name": "R",
   "language": "R",
   "name": "ir"
  },
  "language_info": {
   "codemirror_mode": "r",
   "file_extension": ".r",
   "mimetype": "text/x-r-source",
   "name": "R",
   "pygments_lexer": "r",
   "version": "4.4.1"
  }
 },
 "nbformat": 4,
 "nbformat_minor": 2
}
