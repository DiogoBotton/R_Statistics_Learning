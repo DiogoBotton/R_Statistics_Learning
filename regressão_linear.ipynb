{
 "cells": [
  {
   "cell_type": "code",
   "execution_count": 28,
   "metadata": {
    "vscode": {
     "languageId": "r"
    }
   },
   "outputs": [
    {
     "data": {
      "text/html": [
       "<table class=\"dataframe\">\n",
       "<caption>A data.frame: 6 × 2</caption>\n",
       "<thead>\n",
       "\t<tr><th></th><th scope=col>horas</th><th scope=col>bugs</th></tr>\n",
       "\t<tr><th></th><th scope=col>&lt;dbl&gt;</th><th scope=col>&lt;dbl&gt;</th></tr>\n",
       "</thead>\n",
       "<tbody>\n",
       "\t<tr><th scope=row>1</th><td>10</td><td> 7</td></tr>\n",
       "\t<tr><th scope=row>2</th><td>20</td><td>13</td></tr>\n",
       "\t<tr><th scope=row>3</th><td>30</td><td>20</td></tr>\n",
       "\t<tr><th scope=row>4</th><td>40</td><td>28</td></tr>\n",
       "\t<tr><th scope=row>5</th><td>50</td><td>35</td></tr>\n",
       "\t<tr><th scope=row>6</th><td>60</td><td>45</td></tr>\n",
       "</tbody>\n",
       "</table>\n"
      ],
      "text/latex": [
       "A data.frame: 6 × 2\n",
       "\\begin{tabular}{r|ll}\n",
       "  & horas & bugs\\\\\n",
       "  & <dbl> & <dbl>\\\\\n",
       "\\hline\n",
       "\t1 & 10 &  7\\\\\n",
       "\t2 & 20 & 13\\\\\n",
       "\t3 & 30 & 20\\\\\n",
       "\t4 & 40 & 28\\\\\n",
       "\t5 & 50 & 35\\\\\n",
       "\t6 & 60 & 45\\\\\n",
       "\\end{tabular}\n"
      ],
      "text/markdown": [
       "\n",
       "A data.frame: 6 × 2\n",
       "\n",
       "| <!--/--> | horas &lt;dbl&gt; | bugs &lt;dbl&gt; |\n",
       "|---|---|---|\n",
       "| 1 | 10 |  7 |\n",
       "| 2 | 20 | 13 |\n",
       "| 3 | 30 | 20 |\n",
       "| 4 | 40 | 28 |\n",
       "| 5 | 50 | 35 |\n",
       "| 6 | 60 | 45 |\n",
       "\n"
      ],
      "text/plain": [
       "  horas bugs\n",
       "1 10     7  \n",
       "2 20    13  \n",
       "3 30    20  \n",
       "4 40    28  \n",
       "5 50    35  \n",
       "6 60    45  "
      ]
     },
     "metadata": {},
     "output_type": "display_data"
    }
   ],
   "source": [
    "# No contexto de um Desenvolvedor de Software há X horas para resolver Y quantidade de bugs\n",
    "\n",
    "horas <- c(10, 20, 30, 40, 50, 60, 70, 80)\n",
    "bugs <- c(7, 13, 20, 28, 35, 45, 55, 65)\n",
    "\n",
    "dados <- data.frame(horas, bugs)\n",
    "\n",
    "head(dados)"
   ]
  },
  {
   "cell_type": "code",
   "execution_count": 29,
   "metadata": {
    "vscode": {
     "languageId": "r"
    }
   },
   "outputs": [
    {
     "name": "stderr",
     "output_type": "stream",
     "text": [
      "\u001b[1m\u001b[22m`geom_smooth()` using formula = 'y ~ x'\n"
     ]
    },
    {
     "data": {
      "image/png": "[encoded data removed]",
      "text/plain": [
       "plot without title"
      ]
     },
     "metadata": {
      "image/png": {
       "height": 420,
       "width": 420
      }
     },
     "output_type": "display_data"
    }
   ],
   "source": [
    "# Visualização Gráfica\n",
    "\n",
    "# Importando a biblioteca\n",
    "library(ggplot2)\n",
    "\n",
    "# Plotando os dados\n",
    "ggplot(dados, aes(x = horas, y = bugs)) +\n",
    "  geom_point() +\n",
    "  geom_smooth(method = \"lm\", se = FALSE) +\n",
    "  theme_minimal() +\n",
    "  xlab(\"Horas de Desenvolvimento\") +\n",
    "  ylab(\"Quantidade de Bugs\")\n",
    "\n",
    "# A reta azul é chamada de reta da regressão\n",
    "# Cada ponto representa a observação quando cruzamos as variáveis que criamos, no caso, os bugs e horas"
   ]
  },
  {
   "cell_type": "code",
   "execution_count": 30,
   "metadata": {
    "vscode": {
     "languageId": "r"
    }
   },
   "outputs": [
    {
     "data": {
      "text/plain": [
       "\n",
       "Call:\n",
       "lm(formula = bugs ~ horas, data = dados)\n",
       "\n",
       "Residuals:\n",
       "    Min      1Q  Median      3Q     Max \n",
       "-2.6548 -1.1131 -0.3452  1.1488  2.5833 \n",
       "\n",
       "Coefficients:\n",
       "            Estimate Std. Error t value Pr(>|t|)    \n",
       "(Intercept) -3.89286    1.55761  -2.499   0.0466 *  \n",
       "horas        0.83095    0.03085  26.939 1.73e-07 ***\n",
       "---\n",
       "Signif. codes:  0 '***' 0.001 '**' 0.01 '*' 0.05 '.' 0.1 ' ' 1\n",
       "\n",
       "Residual standard error: 1.999 on 6 degrees of freedom\n",
       "Multiple R-squared:  0.9918,\tAdjusted R-squared:  0.9904 \n",
       "F-statistic: 725.7 on 1 and 6 DF,  p-value: 1.728e-07\n"
      ]
     },
     "metadata": {},
     "output_type": "display_data"
    }
   ],
   "source": [
    "# Realizando a regressão linear SIMPLES\n",
    "# UMA variável dependente e UMA variável independente\n",
    "\n",
    "modelo_simples <- lm(bugs ~ horas, data = dados)\n",
    "\n",
    "summary(modelo_simples)\n",
    "\n",
    "# Coeficientes:\n",
    "# O intercepto (intercept) indica o valor previsto de \"bugs\" quando \"horas\" é zero.\n",
    "# O coeficiente \"horas\" mostra como a quantidade de \"bugs\" é esperada para mudar com a cada hora adicional de desenvolvimento.\n",
    "\n",
    "\n",
    "# o valor-p (Pr>|t|): indica a significância estatística da relação observada entre as variáveis no modelo.\n",
    "# Obs. Um valor-p baixo (<0.05) sugere uma relação significativa.\n",
    "\n",
    "# O \"R-squared\" significa que o modelo explica toda a variação na variável dependente, enquanto o valor menor indica menos variação explicada.\n",
    "# Em outras palavras, verifica o quanto as duas variaveis independentes (horas) e dependentes (bugs) estão correlacionadas\n",
    "# Quanto mais próximas de 1, o modelo é significativo"
   ]
  },
  {
   "cell_type": "code",
   "execution_count": 31,
   "metadata": {
    "vscode": {
     "languageId": "r"
    }
   },
   "outputs": [
    {
     "data": {
      "text/html": [
       "<table class=\"dataframe\">\n",
       "<caption>A data.frame: 6 × 3</caption>\n",
       "<thead>\n",
       "\t<tr><th></th><th scope=col>horas</th><th scope=col>bugs</th><th scope=col>complexidade</th></tr>\n",
       "\t<tr><th></th><th scope=col>&lt;dbl&gt;</th><th scope=col>&lt;dbl&gt;</th><th scope=col>&lt;dbl&gt;</th></tr>\n",
       "</thead>\n",
       "<tbody>\n",
       "\t<tr><th scope=row>1</th><td>10</td><td> 7</td><td>5</td></tr>\n",
       "\t<tr><th scope=row>2</th><td>20</td><td>13</td><td>7</td></tr>\n",
       "\t<tr><th scope=row>3</th><td>30</td><td>20</td><td>6</td></tr>\n",
       "\t<tr><th scope=row>4</th><td>40</td><td>28</td><td>9</td></tr>\n",
       "\t<tr><th scope=row>5</th><td>50</td><td>35</td><td>8</td></tr>\n",
       "\t<tr><th scope=row>6</th><td>60</td><td>45</td><td>7</td></tr>\n",
       "</tbody>\n",
       "</table>\n"
      ],
      "text/latex": [
       "A data.frame: 6 × 3\n",
       "\\begin{tabular}{r|lll}\n",
       "  & horas & bugs & complexidade\\\\\n",
       "  & <dbl> & <dbl> & <dbl>\\\\\n",
       "\\hline\n",
       "\t1 & 10 &  7 & 5\\\\\n",
       "\t2 & 20 & 13 & 7\\\\\n",
       "\t3 & 30 & 20 & 6\\\\\n",
       "\t4 & 40 & 28 & 9\\\\\n",
       "\t5 & 50 & 35 & 8\\\\\n",
       "\t6 & 60 & 45 & 7\\\\\n",
       "\\end{tabular}\n"
      ],
      "text/markdown": [
       "\n",
       "A data.frame: 6 × 3\n",
       "\n",
       "| <!--/--> | horas &lt;dbl&gt; | bugs &lt;dbl&gt; | complexidade &lt;dbl&gt; |\n",
       "|---|---|---|---|\n",
       "| 1 | 10 |  7 | 5 |\n",
       "| 2 | 20 | 13 | 7 |\n",
       "| 3 | 30 | 20 | 6 |\n",
       "| 4 | 40 | 28 | 9 |\n",
       "| 5 | 50 | 35 | 8 |\n",
       "| 6 | 60 | 45 | 7 |\n",
       "\n"
      ],
      "text/plain": [
       "  horas bugs complexidade\n",
       "1 10     7   5           \n",
       "2 20    13   7           \n",
       "3 30    20   6           \n",
       "4 40    28   9           \n",
       "5 50    35   8           \n",
       "6 60    45   7           "
      ]
     },
     "metadata": {},
     "output_type": "display_data"
    }
   ],
   "source": [
    "# Regressão Linear Multipla\n",
    "\n",
    "complexidade <- c(5,7,6,9,8,7,8,10)\n",
    "\n",
    "# Adicionando a nova variável ao dataframe\n",
    "\n",
    "dados$complexidade <- complexidade\n",
    "\n",
    "head(dados)"
   ]
  },
  {
   "cell_type": "code",
   "execution_count": 32,
   "metadata": {
    "vscode": {
     "languageId": "r"
    }
   },
   "outputs": [
    {
     "data": {
      "text/plain": [
       "\n",
       "Call:\n",
       "lm(formula = bugs ~ horas + complexidade, data = dados)\n",
       "\n",
       "Residuals:\n",
       "      1       2       3       4       5       6       7       8 \n",
       " 2.4333  0.4238 -1.1857 -0.9952 -2.6048 -1.2143  0.5762  2.5667 \n",
       "\n",
       "Coefficients:\n",
       "             Estimate Std. Error t value Pr(>|t|)    \n",
       "(Intercept)  -2.84286    4.50300  -0.631    0.556    \n",
       "horas         0.84095    0.05202  16.167 1.65e-05 ***\n",
       "complexidade -0.20000    0.79458  -0.252    0.811    \n",
       "---\n",
       "Signif. codes:  0 '***' 0.001 '**' 0.01 '*' 0.05 '.' 0.1 ' ' 1\n",
       "\n",
       "Residual standard error: 2.176 on 5 degrees of freedom\n",
       "Multiple R-squared:  0.9919,\tAdjusted R-squared:  0.9887 \n",
       "F-statistic: 306.2 on 2 and 5 DF,  p-value: 5.9e-06\n"
      ]
     },
     "metadata": {},
     "output_type": "display_data"
    }
   ],
   "source": [
    "modelo_multiplo <- lm(bugs ~ horas + complexidade, data = dados)\n",
    "\n",
    "summary(modelo_multiplo)"
   ]
  }
 ],
 "metadata": {
  "kernelspec": {
   "display_name": "R",
   "language": "R",
   "name": "ir"
  },
  "language_info": {
   "codemirror_mode": "r",
   "file_extension": ".r",
   "mimetype": "text/x-r-source",
   "name": "R",
   "pygments_lexer": "r",
   "version": "4.4.1"
  }
 },
 "nbformat": 4,
 "nbformat_minor": 2
}
